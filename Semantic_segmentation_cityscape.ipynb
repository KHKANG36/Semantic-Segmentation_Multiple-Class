{
 "cells": [
  {
   "cell_type": "code",
   "execution_count": 1,
   "metadata": {
    "collapsed": false
   },
   "outputs": [],
   "source": [
    "# import required functions\n",
    "import os.path\n",
    "import tensorflow as tf\n",
    "import helper\n",
    "import warnings\n",
    "import cv2\n",
    "import numpy as np\n",
    "from distutils.version import LooseVersion\n",
    "import project_tests as tests"
   ]
  },
  {
   "cell_type": "code",
   "execution_count": 2,
   "metadata": {
    "collapsed": false
   },
   "outputs": [],
   "source": [
    "# Define Variables\n",
    "Reg = 0.001"
   ]
  },
  {
   "cell_type": "code",
   "execution_count": 3,
   "metadata": {
    "collapsed": false
   },
   "outputs": [
    {
     "name": "stdout",
     "output_type": "stream",
     "text": [
      "TensorFlow Version: 1.1.0\n",
      "Default GPU Device: /gpu:0\n"
     ]
    }
   ],
   "source": [
    "# Check TensorFlow Version\n",
    "assert LooseVersion(tf.__version__) >= LooseVersion('1.0'), 'Please use TensorFlow version 1.0 or newer.  You are using {}'.format(tf.__version__)\n",
    "print('TensorFlow Version: {}'.format(tf.__version__))\n",
    "\n",
    "# Check for a GPU\n",
    "if not tf.test.gpu_device_name():\n",
    "    warnings.warn('No GPU found. Please use a GPU to train your neural network.')\n",
    "else:\n",
    "    print('Default GPU Device: {}'.format(tf.test.gpu_device_name()))"
   ]
  },
  {
   "cell_type": "code",
   "execution_count": 4,
   "metadata": {
    "collapsed": true
   },
   "outputs": [],
   "source": [
    "# Load VGG \n",
    "def load_vgg(sess, vgg_path):\n",
    "    \"\"\"\n",
    "    Load Pretrained VGG Model into TensorFlow.\n",
    "    :param sess: TensorFlow Session\n",
    "    :param vgg_path: Path to vgg folder, containing \"variables/\" and \"saved_model.pb\"\n",
    "    :return: Tuple of Tensors from VGG model (image_input, keep_prob, layer3_out, layer4_out, layer7_out)\n",
    "    \"\"\"\n",
    "    vgg_tag = 'vgg16'\n",
    "    vgg_input_tensor_name = 'image_input:0'\n",
    "    vgg_keep_prob_tensor_name = 'keep_prob:0'\n",
    "    vgg_layer3_out_tensor_name = 'layer3_out:0'\n",
    "    vgg_layer4_out_tensor_name = 'layer4_out:0'\n",
    "    vgg_layer7_out_tensor_name = 'layer7_out:0'\n",
    "    \n",
    "    # Load the model & weight \n",
    "    tf.saved_model.loader.load(sess, [vgg_tag], vgg_path)\n",
    "    graph = tf.get_default_graph()\n",
    "    image_input = graph.get_tensor_by_name(vgg_input_tensor_name)\n",
    "    keep_prob = graph.get_tensor_by_name(vgg_keep_prob_tensor_name)\n",
    "    layer3 = graph.get_tensor_by_name(vgg_layer3_out_tensor_name)\n",
    "    layer4 = graph.get_tensor_by_name(vgg_layer4_out_tensor_name)\n",
    "    layer7 = graph.get_tensor_by_name(vgg_layer7_out_tensor_name)\n",
    "    \n",
    "    return image_input, keep_prob, layer3, layer4, layer7"
   ]
  },
  {
   "cell_type": "code",
   "execution_count": 5,
   "metadata": {
    "collapsed": true
   },
   "outputs": [],
   "source": [
    "# Define the layers\n",
    "def layers(vgg_layer3_out, vgg_layer4_out, vgg_layer7_out, num_classes):\n",
    "    \"\"\"\n",
    "    Create the layers for a fully convolutional network.  Build skip-layers using the vgg layers.\n",
    "    :param vgg_layer7_out: TF Tensor for VGG Layer 3 output\n",
    "    :param vgg_layer4_out: TF Tensor for VGG Layer 4 output\n",
    "    :param vgg_layer3_out: TF Tensor for VGG Layer 7 output\n",
    "    :param num_classes: Number of classes to classify\n",
    "    :return: The Tensor for the last layer of output\n",
    "    \"\"\"\n",
    "    conv_1x1_layer7 = tf.layers.conv2d(vgg_layer7_out, num_classes, 1, padding='SAME', \n",
    "                                       kernel_initializer=tf.random_normal_initializer(stddev=0.001),\n",
    "                                       kernel_regularizer=tf.contrib.layers.l2_regularizer(Reg))\n",
    "    deconv_layer7 = tf.layers.conv2d_transpose(conv_1x1_layer7, num_classes, 4, 2, padding='SAME', \n",
    "                                               kernel_initializer=tf.random_normal_initializer(stddev=0.001),\n",
    "                                               kernel_regularizer=tf.contrib.layers.l2_regularizer(Reg))\n",
    "    conv_1x1_layer4 = tf.layers.conv2d(vgg_layer4_out, num_classes, 1, padding='SAME',\n",
    "                                       kernel_initializer=tf.random_normal_initializer(stddev=0.001),\n",
    "                                       kernel_regularizer=tf.contrib.layers.l2_regularizer(Reg))\n",
    "    skip_connect1 = tf.add (deconv_layer7, conv_1x1_layer4)\n",
    "    deconv_skip_connect1 = tf.layers.conv2d_transpose(skip_connect1, num_classes, 4, 2, padding='SAME', \n",
    "                                               kernel_initializer=tf.random_normal_initializer(stddev=0.001),\n",
    "                                               kernel_regularizer=tf.contrib.layers.l2_regularizer(Reg))\n",
    "    conv_1x1_layer3 = tf.layers.conv2d(vgg_layer3_out, num_classes, 1, padding='SAME', \n",
    "                                       kernel_initializer=tf.random_normal_initializer(stddev=0.001),\n",
    "                                       kernel_regularizer=tf.contrib.layers.l2_regularizer(Reg))\n",
    "    skip_connect2 = tf.add (deconv_skip_connect1, conv_1x1_layer3)\n",
    "    output = tf.layers.conv2d_transpose(skip_connect2, num_classes, 16, 8, padding='SAME', \n",
    "                                        kernel_initializer=tf.random_normal_initializer(stddev=0.001),\n",
    "                                               kernel_regularizer=tf.contrib.layers.l2_regularizer(Reg)) \n",
    "    \n",
    "    return output"
   ]
  },
  {
   "cell_type": "code",
   "execution_count": 6,
   "metadata": {
    "collapsed": true
   },
   "outputs": [],
   "source": [
    "# Optimizer\n",
    "def optimize(nn_last_layer, correct_label, learning_rate, num_classes):\n",
    "    \"\"\"\n",
    "    Build the TensorFLow loss and optimizer operations.\n",
    "    :param nn_last_layer: TF Tensor of the last layer in the neural network\n",
    "    :param correct_label: TF Placeholder for the correct label image\n",
    "    :param learning_rate: TF Placeholder for the learning rate\n",
    "    :param num_classes: Number of classes to classify\n",
    "    :return: Tuple of (logits, train_op, cross_entropy_loss)\n",
    "    \"\"\"\n",
    "    logits = tf.reshape(nn_last_layer, (-1,num_classes))\n",
    "    labels = tf.reshape(correct_label, (-1,num_classes))\n",
    "    cross_entropy_loss = tf.reduce_mean (tf.nn.softmax_cross_entropy_with_logits(logits=logits, labels=labels))\n",
    "    train_op = tf.train.AdamOptimizer(learning_rate).minimize(cross_entropy_loss)\n",
    "    \n",
    "    return logits, train_op, cross_entropy_loss"
   ]
  },
  {
   "cell_type": "code",
   "execution_count": 7,
   "metadata": {
    "collapsed": false
   },
   "outputs": [],
   "source": [
    "def train_nn(sess, epochs, batch_size, get_batches_fn, train_op, cross_entropy_loss, input_image,\n",
    "             correct_label, keep_prob, learning_rate):\n",
    "    \"\"\"\n",
    "    Train neural network and print out the loss during training.\n",
    "    :param sess: TF Session\n",
    "    :param epochs: Number of epochs\n",
    "    :param batch_size: Batch size\n",
    "    :param get_batches_fn: Function to get batches of training data.  Call using get_batches_fn(batch_size)\n",
    "    :param train_op: TF Operation to train the neural network\n",
    "    :param cross_entropy_loss: TF Tensor for the amount of loss\n",
    "    :param input_image: TF Placeholder for input images\n",
    "    :param correct_label: TF Placeholder for label images\n",
    "    :param keep_prob: TF Placeholder for dropout keep probability\n",
    "    :param learning_rate: TF Placeholder for learning rate\n",
    "    \"\"\"\n",
    "    #Train function \n",
    "    for epoch in range(epochs):\n",
    "        print(\"EPOCH: {}...\".format(epoch+1))\n",
    "        for image, label in get_batches_fn(batch_size):\n",
    "            _, loss = sess.run([train_op, cross_entropy_loss], feed_dict = {input_image: image, correct_label: label, keep_prob: 0.5, learning_rate: 0.0001})\n",
    "        print(\"LOSS: {}\".format(loss))"
   ]
  },
  {
   "cell_type": "code",
   "execution_count": 8,
   "metadata": {
    "collapsed": false
   },
   "outputs": [],
   "source": [
    "def run():\n",
    "    num_classes = 5\n",
    "    image_shape = (256, 512) #1/4 Resize\n",
    "    data_dir = './data'\n",
    "    runs_dir = './runs'\n",
    "    #tests.test_for_kitti_dataset(data_dir)\n",
    "\n",
    "    # Download pretrained vgg model\n",
    "    helper.maybe_download_pretrained_vgg(data_dir)\n",
    "\n",
    "    # OPTIONAL: Train and Inference on the cityscapes dataset instead of the Kitti dataset.\n",
    "    # You'll need a GPU with at least 10 teraFLOPS to train on.\n",
    "    #  https://www.cityscapes-dataset.com/\n",
    "\n",
    "    with tf.Session() as sess:\n",
    "        # Path to vgg model\n",
    "        vgg_path = os.path.join(data_dir, 'vgg')\n",
    "        # Create function to get batches\n",
    "        get_batches_fn = helper.gen_batch_function(os.path.join(data_dir, 'training'), image_shape)\n",
    "\n",
    "        # OPTIONAL: Augment Images for better results\n",
    "        #  https://datascience.stackexchange.com/questions/5224/how-to-prepare-augment-images-for-neural-network\n",
    "\n",
    "        # TODO: Build NN using load_vgg, layers, and optimize function\n",
    "        epochs = 35\n",
    "        batch_size = 16\n",
    "        image_input, keep_prob, layer3, layer4, layer7 = load_vgg(sess, vgg_path)\n",
    "        output = layers(layer3, layer4, layer7, num_classes)\n",
    "        #TF Placeholder for correct_label,learning_rate\n",
    "        correct_label = tf.placeholder(dtype = tf.int32, shape = [None, None, None, num_classes])\n",
    "        learning_rate = tf.placeholder(dtype = tf.float32)\n",
    "        logits, train_op, cross_entropy_loss = optimize(output, correct_label, learning_rate, num_classes)\n",
    "\n",
    "        # TODO: Train NN using the train_nn function\n",
    "        sess.run(tf.global_variables_initializer())\n",
    "        train_nn(sess, epochs, batch_size, get_batches_fn, train_op, cross_entropy_loss, image_input, correct_label, keep_prob, learning_rate)\n",
    "\n",
    "        # TODO: Save inference data using helper.save_inference_samples\n",
    "        #  helper.save_inference_samples(runs_dir, data_dir, sess, image_shape, logits, keep_prob, input_image)\n",
    "        #helper.save_inference_samples(runs_dir, data_dir, sess, image_shape, logits, keep_prob, image_input)\n",
    "        video_file = 'project_video.mp4'\n",
    "        helper.gen_video_output(sess, logits, keep_prob, image_input, video_file, image_shape)\n",
    "        print (\"Finished..\")"
   ]
  },
  {
   "cell_type": "code",
   "execution_count": 9,
   "metadata": {
    "collapsed": false,
    "scrolled": false
   },
   "outputs": [
    {
     "name": "stdout",
     "output_type": "stream",
     "text": [
      "INFO:tensorflow:Restoring parameters from b'./data\\\\vgg\\\\variables\\\\variables'\n",
      "EPOCH: 1...\n",
      "LOSS: 0.354019433259964\n",
      "EPOCH: 2...\n",
      "LOSS: 0.09376213699579239\n",
      "EPOCH: 3...\n",
      "LOSS: 0.10658495128154755\n",
      "EPOCH: 4...\n",
      "LOSS: 0.14598815143108368\n",
      "EPOCH: 5...\n",
      "LOSS: 0.07171033322811127\n",
      "EPOCH: 6...\n",
      "LOSS: 0.12964798510074615\n",
      "EPOCH: 7...\n",
      "LOSS: 0.17696329951286316\n",
      "EPOCH: 8...\n",
      "LOSS: 0.049568790942430496\n",
      "EPOCH: 9...\n",
      "LOSS: 0.11057426780462265\n",
      "EPOCH: 10...\n",
      "LOSS: 0.05973811075091362\n",
      "EPOCH: 11...\n",
      "LOSS: 0.08218207210302353\n",
      "EPOCH: 12...\n",
      "LOSS: 0.08818574994802475\n",
      "EPOCH: 13...\n",
      "LOSS: 0.04626431688666344\n",
      "EPOCH: 14...\n",
      "LOSS: 0.06816785782575607\n",
      "EPOCH: 15...\n",
      "LOSS: 0.08496271818876266\n",
      "EPOCH: 16...\n",
      "LOSS: 0.034095507115125656\n",
      "EPOCH: 17...\n",
      "LOSS: 0.06372690945863724\n",
      "EPOCH: 18...\n",
      "LOSS: 0.05004159361124039\n",
      "EPOCH: 19...\n",
      "LOSS: 0.05129368230700493\n",
      "EPOCH: 20...\n",
      "LOSS: 0.052184827625751495\n",
      "EPOCH: 21...\n",
      "LOSS: 0.1304827779531479\n",
      "EPOCH: 22...\n",
      "LOSS: 0.06904139369726181\n",
      "EPOCH: 23...\n",
      "LOSS: 0.04709292948246002\n",
      "EPOCH: 24...\n",
      "LOSS: 0.03584030643105507\n",
      "EPOCH: 25...\n",
      "LOSS: 0.05389507859945297\n",
      "EPOCH: 26...\n",
      "LOSS: 0.04224469140172005\n",
      "EPOCH: 27...\n",
      "LOSS: 0.03606809303164482\n",
      "EPOCH: 28...\n",
      "LOSS: 0.04722744598984718\n",
      "EPOCH: 29...\n",
      "LOSS: 0.032002005726099014\n",
      "EPOCH: 30...\n",
      "LOSS: 0.04013990983366966\n",
      "EPOCH: 31...\n",
      "LOSS: 0.14731170237064362\n",
      "EPOCH: 32...\n",
      "LOSS: 0.06019206717610359\n",
      "EPOCH: 33...\n",
      "LOSS: 0.04760851711034775\n",
      "EPOCH: 34...\n",
      "LOSS: 0.05393418297171593\n",
      "EPOCH: 35...\n",
      "LOSS: 0.06211176887154579\n",
      "Finished..\n"
     ]
    }
   ],
   "source": [
    "run()"
   ]
  },
  {
   "cell_type": "code",
   "execution_count": null,
   "metadata": {
    "collapsed": false
   },
   "outputs": [],
   "source": []
  }
 ],
 "metadata": {
  "anaconda-cloud": {},
  "kernelspec": {
   "display_name": "Python [conda root]",
   "language": "python",
   "name": "conda-root-py"
  },
  "language_info": {
   "codemirror_mode": {
    "name": "ipython",
    "version": 3
   },
   "file_extension": ".py",
   "mimetype": "text/x-python",
   "name": "python",
   "nbconvert_exporter": "python",
   "pygments_lexer": "ipython3",
   "version": "3.5.2"
  }
 },
 "nbformat": 4,
 "nbformat_minor": 1
}
